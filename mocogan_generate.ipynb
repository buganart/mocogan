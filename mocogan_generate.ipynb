{
  "nbformat": 4,
  "nbformat_minor": 0,
  "metadata": {
    "colab": {
      "name": "Copy of mocogan_generate.ipynb",
      "provenance": [],
      "collapsed_sections": [],
      "machine_shape": "hm",
      "include_colab_link": true
    },
    "kernelspec": {
      "name": "python3",
      "display_name": "Python 3"
    },
    "accelerator": "GPU"
  },
  "cells": [
    {
      "cell_type": "markdown",
      "metadata": {
        "id": "view-in-github",
        "colab_type": "text"
      },
      "source": [
        "<a href=\"https://colab.research.google.com/github/buganart/mocogan/blob/master/mocogan_generate.ipynb\" target=\"_parent\"><img src=\"https://colab.research.google.com/assets/colab-badge.svg\" alt=\"Open In Colab\"/></a>"
      ]
    },
    {
      "cell_type": "code",
      "metadata": {
        "id": "jbp-CL5ijb4e",
        "cellView": "form"
      },
      "source": [
        "#@markdown Before starting please save the notebook in your drive by clicking on `File -> Save a copy in drive`"
      ],
      "execution_count": 1,
      "outputs": []
    },
    {
      "cell_type": "code",
      "metadata": {
        "id": "XQ-pH7tyK9xW",
        "cellView": "form",
        "colab": {
          "base_uri": "https://localhost:8080/"
        },
        "outputId": "7e4d3a13-496d-4548-cdea-2d6b7750fec2"
      },
      "source": [
        "#@markdown Check GPU, should be a Tesla V100\n",
        "!nvidia-smi -L\n",
        "import os\n",
        "print(f\"We have {os.cpu_count()} CPU cores.\")"
      ],
      "execution_count": 2,
      "outputs": [
        {
          "output_type": "stream",
          "name": "stdout",
          "text": [
            "GPU 0: Tesla K80 (UUID: GPU-2af28ce2-28cc-50b7-a536-cf67d90eb249)\n",
            "We have 2 CPU cores.\n"
          ]
        }
      ]
    },
    {
      "cell_type": "code",
      "metadata": {
        "id": "BJyxzcLOhgWY",
        "cellView": "form",
        "colab": {
          "base_uri": "https://localhost:8080/"
        },
        "outputId": "0b010023-7fad-4224-c90c-cbfc7da0da8f"
      },
      "source": [
        "#@markdown Mount google drive\n",
        "from google.colab import drive\n",
        "from google.colab import output\n",
        "drive.mount('/content/drive')\n",
        "\n",
        "from pathlib import Path\n",
        "if not Path(\"/content/drive/My Drive/IRCMS_GAN_collaborative_database\").exists():\n",
        "    raise RuntimeError(\n",
        "        \"Shortcut to our shared drive folder doesn't exits.\\n\\n\"\n",
        "        \"\\t1. Go to the google drive web UI\\n\"\n",
        "        \"\\t2. Right click shared folder IRCMS_GAN_collaborative_database and click \\\"Add shortcut to Drive\\\"\"\n",
        "    )\n",
        "\n",
        "def clear_on_success(msg=\"Ok!\"):\n",
        "    if _exit_code == 0:\n",
        "        output.clear()\n",
        "        print(msg)"
      ],
      "execution_count": 3,
      "outputs": [
        {
          "output_type": "stream",
          "name": "stdout",
          "text": [
            "Drive already mounted at /content/drive; to attempt to forcibly remount, call drive.mount(\"/content/drive\", force_remount=True).\n"
          ]
        }
      ]
    },
    {
      "cell_type": "markdown",
      "metadata": {
        "id": "ebxxv9zGTic1"
      },
      "source": [
        "# Description\n"
      ]
    },
    {
      "cell_type": "code",
      "metadata": {
        "id": "BVjGm8m_q9R6",
        "cellView": "form"
      },
      "source": [
        "#@title Configuration\n",
        "\n",
        "#@markdown Directories can be found via file explorer on the left by navigating into `drive` to the desired folders. \n",
        "#@markdown Then right-click and `Copy path`.\n",
        "#@markdown - whether to generate videos from mocogan model\n",
        "generate_mocogan = True #@param {type:\"boolean\"}\n",
        "#@markdown - number of videos to generate\n",
        "num_generate_video = 3 #@param {type:\"integer\"}\n",
        "#@markdown - The output directory of generated videos \n",
        "video_dir = \"/content/drive/My Drive/IRCMS_GAN_collaborative_database/Experiments/colab-mocogan\" #@param {type:\"string\"}\n",
        "#@markdown - set wandb run id of logged run to resume from there\n",
        "resume_id = \"fqyixhf5\" #@param {type:\"string\"}\n",
        "\n",
        "if not generate_mocogan:\n",
        "    num_generate_video = 0\n",
        "if resume_id and generate_mocogan:\n",
        "    video_dir = Path(video_dir) / resume_id\n",
        "    video_dir.mkdir(parents=True, exist_ok=True)"
      ],
      "execution_count": 4,
      "outputs": []
    },
    {
      "cell_type": "code",
      "metadata": {
        "id": "pBbbEqNZxngL",
        "colab": {
          "base_uri": "https://localhost:8080/"
        },
        "cellView": "form",
        "outputId": "03c86b73-7aa4-4d41-ec76-fbe6ff52e5ac"
      },
      "source": [
        "#@title Clone mocogan repo + Install Dependencies (wandb and log in)\n",
        "%pip install sk-video\n",
        "%pip install wandb==0.10.12\n",
        "\n",
        "!git clone https://github.com/buganart/mocogan\n",
        "\n",
        "%cd /content/mocogan\n",
        "# %pip install -r requirements.txt\n",
        "output.clear()\n",
        "\n",
        "import wandb\n",
        "from pathlib import Path\n",
        "wandb_drive_netrc_path = Path(\"drive/My Drive/colab/.netrc\")\n",
        "wandb_local_netrc_path = Path(\"/root/.netrc\")\n",
        "if wandb_drive_netrc_path.exists():\n",
        "    import shutil\n",
        "\n",
        "    print(\"Wandb .netrc file found, will use that to log in.\")\n",
        "    shutil.copy(wandb_drive_netrc_path, wandb_local_netrc_path)\n",
        "else:\n",
        "    print(\n",
        "        f\"Wandb config not found at {wandb_drive_netrc_path}.\\n\"\n",
        "        f\"Using manual login.\\n\\n\"\n",
        "        f\"To use auto login in the future, finish the manual login first and then run:\\n\\n\"\n",
        "        f\"\\t!mkdir -p '{wandb_drive_netrc_path.parent}'\\n\"\n",
        "        f\"\\t!cp {wandb_local_netrc_path} '{wandb_drive_netrc_path}'\\n\\n\"\n",
        "        f\"Then that file will be used to login next time.\\n\"\n",
        "    )\n",
        "\n",
        "!wandb login\n",
        "output.clear()\n",
        "print(\"ok!\")\n",
        "clear_on_success(\"Dependencies installed.\")"
      ],
      "execution_count": 5,
      "outputs": [
        {
          "output_type": "stream",
          "name": "stdout",
          "text": [
            "Dependencies installed.\n"
          ]
        }
      ]
    },
    {
      "cell_type": "code",
      "metadata": {
        "id": "UsD5T5GpolG0",
        "cellView": "form"
      },
      "source": [
        "#@title GENERATE\n",
        "os.environ[\"WANDB_MODE\"] = \"dryrun\"\n",
        "\n",
        "!python generate.py \\\n",
        "--video_dir \"$video_dir\" \\\n",
        "--resume_id \"$resume_id\" \\\n",
        "--num_generate_video \"$num_generate_video\" "
      ],
      "execution_count": null,
      "outputs": []
    },
    {
      "cell_type": "code",
      "metadata": {
        "id": "B99l8sDoNXa3",
        "cellView": "form"
      },
      "source": [
        "#@title MERGE VIDEO\n",
        "#@markdown - **PLEASE DOUBLE CHECK THE video_blend_dir BELOW IS CORRECT.**\n",
        "#@markdown - The input directory of source videos and output directory of blended videos\n",
        "#@markdown - If the video_blend_dir is **empty**, **video_blend_dir = video_dir** above\n",
        "video_blend_dir = \"\" #@param {type:\"string\"}\n",
        "#@markdown  -  if generate_mocogan=False, then assume video_blend_dir already has some video files.\n",
        "blend_videos = True #@param {type:\"boolean\"}\n",
        "#@markdown - The TOTAL number of blend videos to generate\n",
        "num_blend_video = 3 #@param {type:\"integer\"}\n",
        "\n",
        "if not video_blend_dir:\n",
        "    video_blend_dir = video_dir\n",
        "#reference: https://www.geeksforgeeks.org/blending-of-two-videos-using-python/\n",
        "\n",
        "import numpy as np\n",
        "import cv2\n",
        "from pathlib import Path\n",
        "import skvideo.io\n",
        "\n",
        "def combine_2videos(path_1, path_2):\n",
        "    path_1 = Path(path_1)\n",
        "    path_2 = Path(path_2)\n",
        "    print(\"video1:\", path_1.stem, \"| video2:\", path_2.stem)\n",
        "    fg = cv2.VideoCapture(str(path_1))\n",
        "    bg = cv2.VideoCapture(str(path_2))\n",
        "    output_frames = []\n",
        "    while True:\n",
        "        ret, foreground = fg.read()\n",
        "        _, background = bg.read()\n",
        "        \n",
        "        if ret:\n",
        "            alpha = np.ones_like(foreground).astype(float) * 0.5\n",
        "    \n",
        "            # converting uint8 to float type\n",
        "            foreground = foreground.astype(float)\n",
        "            background = background.astype(float)\n",
        "    \n",
        "            # multiplying the foreground with alpha=0.5\n",
        "            foreground = cv2.multiply(alpha, foreground)\n",
        "    \n",
        "            # multiplying the background with alpha=0.5\n",
        "            background = cv2.multiply(alpha, background)\n",
        "    \n",
        "            # adding the masked foreground\n",
        "            # and background together\n",
        "            outImage = cv2.add(foreground,\n",
        "                            background)\n",
        "    \n",
        "            # resizing the masked output\n",
        "            # ims = cv2.resize(outImage, (96, 96))\n",
        "            ims = outImage/255\n",
        "            output_frames.append(ims)\n",
        "    \n",
        "            # showing the masked output video\n",
        "            # cv2.imshow('Blended', ims)\n",
        "    \n",
        "\n",
        "        # if the actual video is over then there's\n",
        "        # nothing in the foreground array thus\n",
        "        # breaking from the while loop\n",
        "        else:\n",
        "            break\n",
        "    #write video mp4\n",
        "    output_frames = np.array(output_frames)* 255\n",
        "    output_frames = output_frames.astype(np.uint8)\n",
        "    savefilename = Path(path_1.parent) / (\"combine_\"+str(path_1.stem) +\"-\"+ str(path_2.stem) + \".mp4\")\n",
        "    skvideo.io.vwrite(savefilename, output_frames)\n",
        "\n",
        "    print('Video Blending is done perfectly')\n",
        "\n",
        "\n",
        "video_filelist = Path(video_blend_dir).rglob(\"*.mp4\")\n",
        "video_filelist = list(video_filelist)\n",
        "for _ in range(num_blend_video):\n",
        "    selected_indices = np.random.choice(len(video_filelist), size=2, replace=False)\n",
        "    path_1 = video_filelist[selected_indices[0]]\n",
        "    path_2 = video_filelist[selected_indices[1]]\n",
        "    combine_2videos(path_1, path_2)"
      ],
      "execution_count": null,
      "outputs": []
    }
  ]
}