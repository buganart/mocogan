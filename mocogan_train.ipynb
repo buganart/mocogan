{
  "nbformat": 4,
  "nbformat_minor": 0,
  "metadata": {
    "colab": {
      "name": "mocogan_train.ipynb",
      "provenance": [],
      "collapsed_sections": [],
      "machine_shape": "hm",
      "include_colab_link": true
    },
    "kernelspec": {
      "name": "python3",
      "display_name": "Python 3"
    },
    "accelerator": "GPU"
  },
  "cells": [
    {
      "cell_type": "markdown",
      "metadata": {
        "id": "view-in-github",
        "colab_type": "text"
      },
      "source": [
        "<a href=\"https://colab.research.google.com/github/buganart/mocogan/blob/master/mocogan_train.ipynb\" target=\"_parent\"><img src=\"https://colab.research.google.com/assets/colab-badge.svg\" alt=\"Open In Colab\"/></a>"
      ]
    },
    {
      "cell_type": "code",
      "metadata": {
        "id": "jbp-CL5ijb4e",
        "cellView": "form"
      },
      "source": [
        "#@markdown Before starting please save the notebook in your drive by clicking on `File -> Save a copy in drive`"
      ],
      "execution_count": null,
      "outputs": []
    },
    {
      "cell_type": "code",
      "metadata": {
        "id": "XQ-pH7tyK9xW",
        "colab": {
          "base_uri": "https://localhost:8080/"
        },
        "cellView": "form",
        "outputId": "14816376-fa5d-48d6-8274-cc2173c97f33"
      },
      "source": [
        "#@markdown Check GPU, should be a Tesla V100\n",
        "!nvidia-smi -L\n",
        "import os\n",
        "print(f\"We have {os.cpu_count()} CPU cores.\")"
      ],
      "execution_count": null,
      "outputs": [
        {
          "output_type": "stream",
          "text": [
            "GPU 0: Tesla T4 (UUID: GPU-3afb5118-6d8b-ee4d-5a63-c16ca2a82571)\n",
            "We have 2 CPU cores.\n"
          ],
          "name": "stdout"
        }
      ]
    },
    {
      "cell_type": "code",
      "metadata": {
        "id": "BJyxzcLOhgWY",
        "cellView": "form",
        "colab": {
          "base_uri": "https://localhost:8080/"
        },
        "outputId": "efa13b9b-824f-4bd7-c746-2353a231b860"
      },
      "source": [
        "#@markdown Mount google drive\n",
        "from google.colab import drive\n",
        "from google.colab import output\n",
        "drive.mount('/content/drive')\n",
        "\n",
        "from pathlib import Path\n",
        "if not Path(\"/content/drive/My Drive/IRCMS_GAN_collaborative_database\").exists():\n",
        "    raise RuntimeError(\n",
        "        \"Shortcut to our shared drive folder doesn't exits.\\n\\n\"\n",
        "        \"\\t1. Go to the google drive web UI\\n\"\n",
        "        \"\\t2. Right click shared folder IRCMS_GAN_collaborative_database and click \\\"Add shortcut to Drive\\\"\"\n",
        "    )\n",
        "\n",
        "def clear_on_success(msg=\"Ok!\"):\n",
        "    if _exit_code == 0:\n",
        "        output.clear()\n",
        "        print(msg)"
      ],
      "execution_count": null,
      "outputs": [
        {
          "output_type": "stream",
          "text": [
            "Mounted at /content/drive\n"
          ],
          "name": "stdout"
        }
      ]
    },
    {
      "cell_type": "code",
      "metadata": {
        "id": "9-L3BlfGTfbJ",
        "cellView": "form",
        "colab": {
          "base_uri": "https://localhost:8080/"
        },
        "outputId": "435c6009-5a4d-4a7f-ea78-e608f8d27a00"
      },
      "source": [
        "#@markdown Install wandb and log in\n",
        "%pip install wandb\n",
        "output.clear()\n",
        "import wandb\n",
        "from pathlib import Path\n",
        "wandb_drive_netrc_path = Path(\"drive/My Drive/colab/.netrc\")\n",
        "wandb_local_netrc_path = Path(\"/root/.netrc\")\n",
        "if wandb_drive_netrc_path.exists():\n",
        "    import shutil\n",
        "\n",
        "    print(\"Wandb .netrc file found, will use that to log in.\")\n",
        "    shutil.copy(wandb_drive_netrc_path, wandb_local_netrc_path)\n",
        "else:\n",
        "    print(\n",
        "        f\"Wandb config not found at {wandb_drive_netrc_path}.\\n\"\n",
        "        f\"Using manual login.\\n\\n\"\n",
        "        f\"To use auto login in the future, finish the manual login first and then run:\\n\\n\"\n",
        "        f\"\\t!mkdir -p '{wandb_drive_netrc_path.parent}'\\n\"\n",
        "        f\"\\t!cp {wandb_local_netrc_path} '{wandb_drive_netrc_path}'\\n\\n\"\n",
        "        f\"Then that file will be used to login next time.\\n\"\n",
        "    )\n",
        "\n",
        "!wandb login\n",
        "output.clear()\n",
        "print(\"ok!\")"
      ],
      "execution_count": null,
      "outputs": [
        {
          "output_type": "stream",
          "text": [
            "ok!\n"
          ],
          "name": "stdout"
        }
      ]
    },
    {
      "cell_type": "markdown",
      "metadata": {
        "id": "ebxxv9zGTic1"
      },
      "source": [
        "# Description\n"
      ]
    },
    {
      "cell_type": "code",
      "metadata": {
        "id": "BVjGm8m_q9R6",
        "cellView": "form"
      },
      "source": [
        "#@title Configuration\n",
        "\n",
        "#@markdown Directories can be found via file explorer on the left by navigating into `drive` to the desired folders. \n",
        "#@markdown Then right-click and `Copy path`.\n",
        "#@markdown - The video database directory\n",
        "video_db_dir = \"/content/drive/My Drive/VIDEOS/SINGLE_FILE\" #@param {type:\"string\"}\n",
        "# experiment_dir = \"/content/drive/My Drive/IRCMS_GAN_collaborative_database/Experiments/colab-violingan/melgan\" #@param {type:\"string\"}\n",
        "#@markdown - The output directory of generated videos \n",
        "out_dir = \"/content/drive/My Drive/IRCMS_GAN_collaborative_database/Experiments/colab-mocogan\" #@param {type:\"string\"}\n",
        "#@markdown - set wandb run id of logged run to resume from there\n",
        "resume_id = \"\" #@param {type:\"string\"}\n",
        "#@markdown - set batch_size, default: 16\n",
        "batch_size = 16 #@param {type:\"integer\"}\n",
        "#@markdown - set num of iterations, default: 120000\n",
        "n_iter = 120000 #@param {type:\"integer\"}\n",
        "#@markdown - learning rate of the model (all components)\n",
        "lr = 0.0002 #@param {type:\"number\"}\n",
        "#@markdown - the height and width of input (resized) video\n",
        "img_size = 96 #@param {type:\"integer\"}\n",
        "#@markdown - the number of channel of input (resized) video\n",
        "nc = 3 #@param {type:\"integer\"}\n",
        "\n",
        "#@markdown ##model parameters\n",
        "ndf = 64 #@param {type:\"integer\"}\n",
        "ngf = 64 #@param {type:\"integer\"}\n",
        "d_E = 10 #@param {type:\"integer\"}\n",
        "hidden_size = 100 #@param {type:\"integer\"}\n",
        "d_C = 50 #@param {type:\"integer\"}\n",
        "d_M = 10 #@param {type:\"integer\"}"
      ],
      "execution_count": null,
      "outputs": []
    },
    {
      "cell_type": "code",
      "metadata": {
        "id": "pBbbEqNZxngL",
        "colab": {
          "base_uri": "https://localhost:8080/"
        },
        "cellView": "form",
        "outputId": "aa8f06b3-8f1b-49bb-904a-f7d91c422919"
      },
      "source": [
        "#@title Clone mocogan repo\n",
        "\n",
        "!git clone https://github.com/buganart/mocogan"
      ],
      "execution_count": null,
      "outputs": [
        {
          "output_type": "stream",
          "text": [
            "Cloning into 'mocogan'...\n",
            "remote: Enumerating objects: 122, done.\u001b[K\n",
            "remote: Counting objects: 100% (13/13), done.\u001b[K\n",
            "remote: Compressing objects: 100% (9/9), done.\u001b[K\n",
            "remote: Total 122 (delta 4), reused 13 (delta 4), pack-reused 109\u001b[K\n",
            "Receiving objects: 100% (122/122), 158.94 MiB | 37.25 MiB/s, done.\n",
            "Resolving deltas: 100% (58/58), done.\n"
          ],
          "name": "stdout"
        }
      ]
    },
    {
      "cell_type": "code",
      "metadata": {
        "id": "p1AnyVoom4td",
        "colab": {
          "base_uri": "https://localhost:8080/"
        },
        "cellView": "form",
        "outputId": "103d9df7-590c-4c40-9cac-aff2999a46e4"
      },
      "source": [
        "#@title Install Dependencies\n",
        "\n",
        "%cd /content/mocogan\n",
        "# %pip install -r requirements.txt\n",
        "%pip install sk-video\n",
        "clear_on_success(\"Dependencies installed.\")"
      ],
      "execution_count": null,
      "outputs": [
        {
          "output_type": "stream",
          "text": [
            "Dependencies installed.\n"
          ],
          "name": "stdout"
        }
      ]
    },
    {
      "cell_type": "code",
      "metadata": {
        "id": "yhpa_QpwocrO",
        "colab": {
          "base_uri": "https://localhost:8080/"
        },
        "cellView": "form",
        "outputId": "06451ff5-0011-49aa-fa4f-05b45ae57a2d"
      },
      "source": [
        "#@title Copy video files to runtime\n",
        "\n",
        "local_wav_dir = Path(\"/content/mocogan/raw_data\")\n",
        "!find \"{video_db_dir}\" -maxdepth 1 -type f | xargs -t -d \"\\n\" -I'%%' -P 10 -n 1 rsync -a '%%' \"$local_wav_dir\"/\n",
        "clear_on_success(\"All files copied to this runtime.\")\n"
      ],
      "execution_count": null,
      "outputs": [
        {
          "output_type": "stream",
          "text": [
            "All files copied to this runtime.\n"
          ],
          "name": "stdout"
        }
      ]
    },
    {
      "cell_type": "code",
      "metadata": {
        "colab": {
          "base_uri": "https://localhost:8080/"
        },
        "id": "VWfMO9-GiNyb",
        "cellView": "form",
        "outputId": "b1322fdc-57c5-4f33-b03f-9f2eec1c3800"
      },
      "source": [
        "#@title RESIZE\n",
        "\n",
        "import glob\n",
        "import os\n",
        "current_path = \"/content/mocogan/\"\n",
        "resized_path = os.path.join(current_path, 'resized_data')\n",
        "files = glob.glob(os.path.join(current_path, 'raw_data/*.*'))\n",
        "\n",
        "for i, file in enumerate(files):\n",
        "    resized_filename = os.path.join(resized_path, str(i))\n",
        "    !ffmpeg -i \"{file}\" -pix_fmt yuv420p -vf scale=\"{img_size}\":\"{img_size}\" \"{resized_filename}\".mp4\n",
        "\n",
        "# crop=96:96:42:24\n",
        "clear_on_success(\"All files resized.\")"
      ],
      "execution_count": null,
      "outputs": [
        {
          "output_type": "stream",
          "text": [
            "All files resized.\n"
          ],
          "name": "stdout"
        }
      ]
    },
    {
      "cell_type": "code",
      "metadata": {
        "id": "UsD5T5GpolG0",
        "colab": {
          "base_uri": "https://localhost:8080/"
        },
        "cellView": "form",
        "outputId": "97dff480-7f18-456b-f702-ae50cb6798c5"
      },
      "source": [
        "#@title TRAIN\n",
        "\n",
        "!python train.py \\\n",
        "--out_dir \"$out_dir\" \\\n",
        "--resume_id \"$resume_id\" \\\n",
        "--batch_size \"$batch_size\" \\\n",
        "--n_iter \"$n_iter\" \\\n",
        "--lr \"$lr\" \\\n",
        "--img_size \"$img_size\" \\\n",
        "--nc \"$nc\" \\\n",
        "--ndf \"$ndf\" \\\n",
        "--ngf \"$ngf\" \\\n",
        "--d_E \"$d_E\" \\\n",
        "--hidden_size \"$hidden_size\" \\\n",
        "--d_C \"$d_C\" \\\n",
        "--d_M \"$d_M\" \\ \n",
        "--mode_run True"
      ],
      "execution_count": null,
      "outputs": [
        {
          "output_type": "stream",
          "text": [
            "/content/mocogan/models.py:147: UserWarning: nn.init.xavier_uniform is now deprecated in favor of nn.init.xavier_uniform_.\n",
            "  init.xavier_uniform(params)\n",
            "/content/mocogan/models.py:157: UserWarning: nn.init.constant is now deprecated in favor of nn.init.constant_.\n",
            "  init.constant(params, 0)\n",
            "[100/120000] (0d 0h 1m 1s) Loss_Di: 0.4790 Loss_Dv: 1.1403 Loss_Gi: 3.3367 Loss_Gv: 3.1552 Di_real_mean 0.7616 Di_fake_mean 0.0798 Dv_real_mean 0.9336 Dv_fake_mean 0.5426\n",
            "[200/120000] (0d 0h 2m 7s) Loss_Di: 1.9010 Loss_Dv: 0.9459 Loss_Gi: 5.0629 Loss_Gv: 3.5948 Di_real_mean 0.1303 Di_fake_mean 0.0009 Dv_real_mean 0.8820 Dv_fake_mean 0.4261\n",
            "[300/120000] (0d 0h 3m 14s) Loss_Di: 0.5362 Loss_Dv: 0.5261 Loss_Gi: 2.9751 Loss_Gv: 3.4374 Di_real_mean 0.7672 Di_fake_mean 0.1018 Dv_real_mean 0.7971 Dv_fake_mean 0.1228\n",
            "[400/120000] (0d 0h 4m 21s) Loss_Di: 0.8935 Loss_Dv: 1.0055 Loss_Gi: 0.5983 Loss_Gv: 5.2417 Di_real_mean 0.4176 Di_fake_mean 0.0118 Dv_real_mean 0.9902 Dv_fake_mean 0.3892\n",
            "[500/120000] (0d 0h 5m 29s) Loss_Di: 0.4608 Loss_Dv: 0.4380 Loss_Gi: 4.1487 Loss_Gv: 4.3506 Di_real_mean 0.9194 Di_fake_mean 0.1069 Dv_real_mean 0.9344 Dv_fake_mean 0.0638\n",
            "[600/120000] (0d 0h 6m 36s) Loss_Di: 0.3582 Loss_Dv: 0.3361 Loss_Gi: 4.9772 Loss_Gv: 6.7276 Di_real_mean 0.9319 Di_fake_mean 0.0227 Dv_real_mean 0.9081 Dv_fake_mean 0.0017\n",
            "[700/120000] (0d 0h 7m 43s) Loss_Di: 0.3714 Loss_Dv: 0.3779 Loss_Gi: 4.3738 Loss_Gv: 5.4376 Di_real_mean 0.8424 Di_fake_mean 0.0280 Dv_real_mean 0.9141 Dv_fake_mean 0.0326\n",
            "[800/120000] (0d 0h 8m 50s) Loss_Di: 0.3268 Loss_Dv: 0.3372 Loss_Gi: 6.6792 Loss_Gv: 6.4883 Di_real_mean 0.8915 Di_fake_mean 0.0009 Dv_real_mean 0.9354 Dv_fake_mean 0.0011\n",
            "[900/120000] (0d 0h 9m 57s) Loss_Di: 0.3290 Loss_Dv: 0.3263 Loss_Gi: 5.9885 Loss_Gv: 6.7167 Di_real_mean 0.9161 Di_fake_mean 0.0018 Dv_real_mean 0.9004 Dv_fake_mean 0.0006\n",
            "[1000/120000] (0d 0h 11m 5s) Loss_Di: 0.7645 Loss_Dv: 0.3811 Loss_Gi: 8.7366 Loss_Gv: 4.7476 Di_real_mean 0.9992 Di_fake_mean 0.0002 Dv_real_mean 0.9045 Dv_fake_mean 0.0389\n",
            "[1100/120000] (0d 0h 12m 13s) Loss_Di: 0.4837 Loss_Dv: 0.3346 Loss_Gi: 2.9250 Loss_Gv: 8.5747 Di_real_mean 0.7509 Di_fake_mean 0.0730 Dv_real_mean 0.9019 Dv_fake_mean 0.0000\n",
            "[1200/120000] (0d 0h 13m 20s) Loss_Di: 0.5300 Loss_Dv: 0.3366 Loss_Gi: 3.7117 Loss_Gv: 8.9932 Di_real_mean 0.8421 Di_fake_mean 0.1526 Dv_real_mean 0.9377 Dv_fake_mean 0.0001\n",
            "[1300/120000] (0d 0h 14m 27s) Loss_Di: 0.8488 Loss_Dv: 0.3277 Loss_Gi: 7.5133 Loss_Gv: 8.4647 Di_real_mean 0.9795 Di_fake_mean 0.3134 Dv_real_mean 0.8800 Dv_fake_mean 0.0001\n",
            "[1400/120000] (0d 0h 15m 34s) Loss_Di: 0.3920 Loss_Dv: 0.3271 Loss_Gi: 3.2857 Loss_Gv: 9.1458 Di_real_mean 0.8135 Di_fake_mean 0.0266 Dv_real_mean 0.8832 Dv_fake_mean 0.0000\n",
            "[1500/120000] (0d 0h 16m 42s) Loss_Di: 0.4949 Loss_Dv: 0.3278 Loss_Gi: 4.0929 Loss_Gv: 9.6005 Di_real_mean 0.6861 Di_fake_mean 0.0059 Dv_real_mean 0.9193 Dv_fake_mean 0.0000\n",
            "[1600/120000] (0d 0h 17m 49s) Loss_Di: 0.4691 Loss_Dv: 0.3307 Loss_Gi: 4.5624 Loss_Gv: 10.3352 Di_real_mean 0.9368 Di_fake_mean 0.0934 Dv_real_mean 0.8670 Dv_fake_mean 0.0000\n",
            "[1700/120000] (0d 0h 18m 56s) Loss_Di: 0.3821 Loss_Dv: 0.3255 Loss_Gi: 4.7688 Loss_Gv: 10.1469 Di_real_mean 0.9347 Di_fake_mean 0.0133 Dv_real_mean 0.9020 Dv_fake_mean 0.0000\n",
            "[1800/120000] (0d 0h 20m 3s) Loss_Di: 0.5310 Loss_Dv: 0.3278 Loss_Gi: 4.0434 Loss_Gv: 10.1042 Di_real_mean 0.7884 Di_fake_mean 0.0028 Dv_real_mean 0.8776 Dv_fake_mean 0.0000\n",
            "[1900/120000] (0d 0h 21m 10s) Loss_Di: 0.4850 Loss_Dv: 0.3254 Loss_Gi: 6.2832 Loss_Gv: 11.6598 Di_real_mean 0.9375 Di_fake_mean 0.1311 Dv_real_mean 0.9043 Dv_fake_mean 0.0000\n",
            "[2000/120000] (0d 0h 22m 18s) Loss_Di: 0.4177 Loss_Dv: 0.3258 Loss_Gi: 3.8319 Loss_Gv: 11.6444 Di_real_mean 0.9009 Di_fake_mean 0.0496 Dv_real_mean 0.8907 Dv_fake_mean 0.0000\n",
            "[2100/120000] (0d 0h 23m 25s) Loss_Di: 0.4466 Loss_Dv: 0.3292 Loss_Gi: 4.9766 Loss_Gv: 10.0078 Di_real_mean 0.9568 Di_fake_mean 0.0762 Dv_real_mean 0.8714 Dv_fake_mean 0.0000\n",
            "[2200/120000] (0d 0h 24m 32s) Loss_Di: 0.5115 Loss_Dv: 0.3255 Loss_Gi: 5.3751 Loss_Gv: 10.6645 Di_real_mean 0.9797 Di_fake_mean 0.0340 Dv_real_mean 0.8953 Dv_fake_mean 0.0000\n",
            "[2300/120000] (0d 0h 25m 39s) Loss_Di: 0.3765 Loss_Dv: 0.3261 Loss_Gi: 4.6678 Loss_Gv: 8.9653 Di_real_mean 0.8569 Di_fake_mean 0.0104 Dv_real_mean 0.8981 Dv_fake_mean 0.0001\n",
            "[2400/120000] (0d 0h 26m 46s) Loss_Di: 0.4337 Loss_Dv: 0.3311 Loss_Gi: 5.6324 Loss_Gv: 11.3420 Di_real_mean 0.9679 Di_fake_mean 0.0089 Dv_real_mean 0.8672 Dv_fake_mean 0.0000\n",
            "[2500/120000] (0d 0h 27m 53s) Loss_Di: 0.3788 Loss_Dv: 0.3269 Loss_Gi: 4.7048 Loss_Gv: 12.7698 Di_real_mean 0.9499 Di_fake_mean 0.0188 Dv_real_mean 0.8826 Dv_fake_mean 0.0000\n",
            "[2600/120000] (0d 0h 29m 1s) Loss_Di: 0.4370 Loss_Dv: 0.3256 Loss_Gi: 4.6578 Loss_Gv: 9.0009 Di_real_mean 0.9341 Di_fake_mean 0.0808 Dv_real_mean 0.9073 Dv_fake_mean 0.0001\n",
            "[2700/120000] (0d 0h 30m 8s) Loss_Di: 0.3620 Loss_Dv: 0.3262 Loss_Gi: 5.8127 Loss_Gv: 12.1866 Di_real_mean 0.9485 Di_fake_mean 0.0018 Dv_real_mean 0.9119 Dv_fake_mean 0.0000\n",
            "[2800/120000] (0d 0h 31m 15s) Loss_Di: 0.6257 Loss_Dv: 0.3257 Loss_Gi: 9.3503 Loss_Gv: 11.5549 Di_real_mean 0.8275 Di_fake_mean 0.0000 Dv_real_mean 0.8912 Dv_fake_mean 0.0000\n",
            "[2900/120000] (0d 0h 32m 22s) Loss_Di: 0.3572 Loss_Dv: 0.3255 Loss_Gi: 3.9938 Loss_Gv: 12.0555 Di_real_mean 0.8782 Di_fake_mean 0.0178 Dv_real_mean 0.9039 Dv_fake_mean 0.0000\n",
            "[3000/120000] (0d 0h 33m 29s) Loss_Di: 2.0576 Loss_Dv: 0.3274 Loss_Gi: 10.6140 Loss_Gv: 11.3858 Di_real_mean 0.2728 Di_fake_mean 0.0000 Dv_real_mean 0.8791 Dv_fake_mean 0.0000\n",
            "[3100/120000] (0d 0h 34m 37s) Loss_Di: 0.3640 Loss_Dv: 0.3256 Loss_Gi: 4.4424 Loss_Gv: 13.3516 Di_real_mean 0.9324 Di_fake_mean 0.0109 Dv_real_mean 0.9088 Dv_fake_mean 0.0000\n",
            "[3200/120000] (0d 0h 35m 44s) Loss_Di: 0.3813 Loss_Dv: 0.3253 Loss_Gi: 4.2367 Loss_Gv: 11.6363 Di_real_mean 0.9295 Di_fake_mean 0.0405 Dv_real_mean 0.9036 Dv_fake_mean 0.0000\n",
            "[3300/120000] (0d 0h 36m 51s) Loss_Di: 0.3440 Loss_Dv: 0.3267 Loss_Gi: 5.6201 Loss_Gv: 12.0711 Di_real_mean 0.8932 Di_fake_mean 0.0093 Dv_real_mean 0.9116 Dv_fake_mean 0.0000\n",
            "[3400/120000] (0d 0h 37m 58s) Loss_Di: 1.2874 Loss_Dv: 0.3262 Loss_Gi: 14.3295 Loss_Gv: 11.4908 Di_real_mean 0.3366 Di_fake_mean 0.0000 Dv_real_mean 0.9119 Dv_fake_mean 0.0000\n",
            "[3500/120000] (0d 0h 39m 5s) Loss_Di: 0.3801 Loss_Dv: 0.3410 Loss_Gi: 3.4573 Loss_Gv: 12.3622 Di_real_mean 0.8167 Di_fake_mean 0.0151 Dv_real_mean 0.8429 Dv_fake_mean 0.0000\n",
            "[3600/120000] (0d 0h 40m 12s) Loss_Di: 0.4808 Loss_Dv: 0.3253 Loss_Gi: 4.2426 Loss_Gv: 12.1486 Di_real_mean 0.8491 Di_fake_mean 0.1184 Dv_real_mean 0.8963 Dv_fake_mean 0.0000\n",
            "[3700/120000] (0d 0h 41m 19s) Loss_Di: 0.5418 Loss_Dv: 0.3256 Loss_Gi: 6.1634 Loss_Gv: 12.2441 Di_real_mean 0.9891 Di_fake_mean 0.0581 Dv_real_mean 0.8916 Dv_fake_mean 0.0000\n",
            "[3800/120000] (0d 0h 42m 27s) Loss_Di: 0.3888 Loss_Dv: 0.3256 Loss_Gi: 5.9385 Loss_Gv: 10.8152 Di_real_mean 0.9434 Di_fake_mean 0.0100 Dv_real_mean 0.9075 Dv_fake_mean 0.0000\n",
            "[3900/120000] (0d 0h 43m 34s) Loss_Di: 0.4496 Loss_Dv: 1.4763 Loss_Gi: 6.3794 Loss_Gv: 0.3260 Di_real_mean 0.7713 Di_fake_mean 0.0026 Dv_real_mean 0.2306 Dv_fake_mean 0.0326\n",
            "[4000/120000] (0d 0h 44m 41s) Loss_Di: 0.3436 Loss_Dv: 0.3406 Loss_Gi: 6.2690 Loss_Gv: 8.3331 Di_real_mean 0.9238 Di_fake_mean 0.0088 Dv_real_mean 0.8635 Dv_fake_mean 0.0001\n",
            "[4100/120000] (0d 0h 45m 48s) Loss_Di: 0.3378 Loss_Dv: 0.3336 Loss_Gi: 6.2802 Loss_Gv: 10.1221 Di_real_mean 0.8628 Di_fake_mean 0.0010 Dv_real_mean 0.8777 Dv_fake_mean 0.0001\n",
            "[4200/120000] (0d 0h 46m 55s) Loss_Di: 0.3292 Loss_Dv: 0.3311 Loss_Gi: 6.8354 Loss_Gv: 5.5463 Di_real_mean 0.9208 Di_fake_mean 0.0006 Dv_real_mean 0.9036 Dv_fake_mean 0.0030\n",
            "[4300/120000] (0d 0h 48m 2s) Loss_Di: 0.3275 Loss_Dv: 0.8180 Loss_Gi: 12.0629 Loss_Gv: 3.3101 Di_real_mean 0.9111 Di_fake_mean 0.0000 Dv_real_mean 0.9624 Dv_fake_mean 0.3498\n",
            "[4400/120000] (0d 0h 49m 9s) Loss_Di: 0.3264 Loss_Dv: 0.3429 Loss_Gi: 7.4743 Loss_Gv: 5.9353 Di_real_mean 0.8969 Di_fake_mean 0.0003 Dv_real_mean 0.9426 Dv_fake_mean 0.0020\n",
            "[4500/120000] (0d 0h 50m 17s) Loss_Di: 0.3289 Loss_Dv: 0.3263 Loss_Gi: 6.9094 Loss_Gv: 9.9957 Di_real_mean 0.9208 Di_fake_mean 0.0006 Dv_real_mean 0.8910 Dv_fake_mean 0.0000\n",
            "[4600/120000] (0d 0h 51m 24s) Loss_Di: 0.3264 Loss_Dv: 0.3265 Loss_Gi: 7.2827 Loss_Gv: 10.3604 Di_real_mean 0.8927 Di_fake_mean 0.0003 Dv_real_mean 0.9052 Dv_fake_mean 0.0000\n",
            "[4700/120000] (0d 0h 52m 31s) Loss_Di: 0.3345 Loss_Dv: 0.3289 Loss_Gi: 10.4931 Loss_Gv: 9.0863 Di_real_mean 0.9354 Di_fake_mean 0.0000 Dv_real_mean 0.9217 Dv_fake_mean 0.0001\n",
            "[4800/120000] (0d 0h 53m 38s) Loss_Di: 0.3262 Loss_Dv: 0.3314 Loss_Gi: 7.6535 Loss_Gv: 11.0680 Di_real_mean 0.9014 Di_fake_mean 0.0003 Dv_real_mean 0.8675 Dv_fake_mean 0.0000\n",
            "[4900/120000] (0d 0h 54m 45s) Loss_Di: 0.3401 Loss_Dv: 0.3270 Loss_Gi: 6.6919 Loss_Gv: 10.5911 Di_real_mean 0.8414 Di_fake_mean 0.0002 Dv_real_mean 0.9150 Dv_fake_mean 0.0000\n",
            "[5000/120000] (0d 0h 55m 52s) Loss_Di: 0.3284 Loss_Dv: 0.3486 Loss_Gi: 6.9076 Loss_Gv: 13.8559 Di_real_mean 0.9128 Di_fake_mean 0.0008 Dv_real_mean 0.9507 Dv_fake_mean 0.0000\n",
            "[5100/120000] (0d 0h 57m 0s) Loss_Di: 0.3943 Loss_Dv: 0.3256 Loss_Gi: 4.2376 Loss_Gv: 13.8978 Di_real_mean 0.8537 Di_fake_mean 0.0468 Dv_real_mean 0.8962 Dv_fake_mean 0.0000\n",
            "[5200/120000] (0d 0h 58m 7s) Loss_Di: 0.4166 Loss_Dv: 0.3296 Loss_Gi: 4.2989 Loss_Gv: 13.7414 Di_real_mean 0.9680 Di_fake_mean 0.0191 Dv_real_mean 0.8711 Dv_fake_mean 0.0000\n",
            "[5300/120000] (0d 0h 59m 14s) Loss_Di: 0.4217 Loss_Dv: 0.3334 Loss_Gi: 3.3016 Loss_Gv: 15.9207 Di_real_mean 0.7442 Di_fake_mean 0.0062 Dv_real_mean 0.8609 Dv_fake_mean 0.0000\n",
            "[5400/120000] (0d 1h 0m 21s) Loss_Di: 0.4350 Loss_Dv: 0.3603 Loss_Gi: 3.8884 Loss_Gv: 16.3989 Di_real_mean 0.7254 Di_fake_mean 0.0008 Dv_real_mean 0.9601 Dv_fake_mean 0.0000\n",
            "[5500/120000] (0d 1h 1m 28s) Loss_Di: 0.4755 Loss_Dv: 0.3286 Loss_Gi: 5.1922 Loss_Gv: 16.1923 Di_real_mean 0.9772 Di_fake_mean 0.0549 Dv_real_mean 0.8765 Dv_fake_mean 0.0000\n",
            "[5600/120000] (0d 1h 2m 35s) Loss_Di: 0.3498 Loss_Dv: 0.3305 Loss_Gi: 3.8473 Loss_Gv: 17.0909 Di_real_mean 0.9033 Di_fake_mean 0.0192 Dv_real_mean 0.8686 Dv_fake_mean 0.0000\n",
            "[5700/120000] (0d 1h 3m 42s) Loss_Di: 0.4462 Loss_Dv: 0.3260 Loss_Gi: 4.4892 Loss_Gv: 15.6986 Di_real_mean 0.9779 Di_fake_mean 0.0067 Dv_real_mean 0.8922 Dv_fake_mean 0.0000\n",
            "[5800/120000] (0d 1h 4m 49s) Loss_Di: 0.4547 Loss_Dv: 0.3261 Loss_Gi: 4.3701 Loss_Gv: 13.2573 Di_real_mean 0.9846 Di_fake_mean 0.0157 Dv_real_mean 0.8893 Dv_fake_mean 0.0000\n",
            "[5900/120000] (0d 1h 5m 56s) Loss_Di: 0.3977 Loss_Dv: 0.3280 Loss_Gi: 4.4647 Loss_Gv: 16.6664 Di_real_mean 0.9628 Di_fake_mean 0.0279 Dv_real_mean 0.8798 Dv_fake_mean 0.0000\n",
            "[6000/120000] (0d 1h 7m 4s) Loss_Di: 0.3396 Loss_Dv: 0.3255 Loss_Gi: 5.2162 Loss_Gv: 16.1096 Di_real_mean 0.8809 Di_fake_mean 0.0029 Dv_real_mean 0.9040 Dv_fake_mean 0.0000\n",
            "[6100/120000] (0d 1h 8m 11s) Loss_Di: 0.3550 Loss_Dv: 0.3393 Loss_Gi: 4.8100 Loss_Gv: 13.6311 Di_real_mean 0.8805 Di_fake_mean 0.0226 Dv_real_mean 0.9420 Dv_fake_mean 0.0000\n",
            "[6200/120000] (0d 1h 9m 18s) Loss_Di: 0.3576 Loss_Dv: 0.3254 Loss_Gi: 4.9171 Loss_Gv: 15.3002 Di_real_mean 0.9091 Di_fake_mean 0.0203 Dv_real_mean 0.8968 Dv_fake_mean 0.0000\n",
            "[6300/120000] (0d 1h 10m 25s) Loss_Di: 0.3828 Loss_Dv: 0.3256 Loss_Gi: 5.1111 Loss_Gv: 14.8480 Di_real_mean 0.9454 Di_fake_mean 0.0229 Dv_real_mean 0.8946 Dv_fake_mean 0.0000\n",
            "[6400/120000] (0d 1h 11m 32s) Loss_Di: 1.7295 Loss_Dv: 0.3276 Loss_Gi: 4.5355 Loss_Gv: 16.5164 Di_real_mean 0.1975 Di_fake_mean 0.0001 Dv_real_mean 0.9193 Dv_fake_mean 0.0000\n",
            "[6500/120000] (0d 1h 12m 39s) Loss_Di: 0.4371 Loss_Dv: 0.3254 Loss_Gi: 3.9772 Loss_Gv: 16.4600 Di_real_mean 0.9360 Di_fake_mean 0.0347 Dv_real_mean 0.8990 Dv_fake_mean 0.0000\n",
            "[6600/120000] (0d 1h 13m 46s) Loss_Di: 0.4054 Loss_Dv: 0.3265 Loss_Gi: 3.6367 Loss_Gv: 16.4759 Di_real_mean 0.7987 Di_fake_mean 0.0098 Dv_real_mean 0.8843 Dv_fake_mean 0.0000\n",
            "[6700/120000] (0d 1h 14m 54s) Loss_Di: 0.3853 Loss_Dv: 0.3271 Loss_Gi: 3.6728 Loss_Gv: 17.9930 Di_real_mean 0.8139 Di_fake_mean 0.0091 Dv_real_mean 0.8818 Dv_fake_mean 0.0000\n",
            "[6800/120000] (0d 1h 16m 1s) Loss_Di: 0.4331 Loss_Dv: 0.3282 Loss_Gi: 5.0579 Loss_Gv: 15.9429 Di_real_mean 0.9593 Di_fake_mean 0.0508 Dv_real_mean 0.9201 Dv_fake_mean 0.0000\n",
            "[6900/120000] (0d 1h 17m 8s) Loss_Di: 0.3499 Loss_Dv: 0.3253 Loss_Gi: 5.4155 Loss_Gv: 17.8165 Di_real_mean 0.9130 Di_fake_mean 0.0050 Dv_real_mean 0.8999 Dv_fake_mean 0.0000\n",
            "[7000/120000] (0d 1h 18m 15s) Loss_Di: 0.3904 Loss_Dv: 0.3257 Loss_Gi: 5.0177 Loss_Gv: 17.7601 Di_real_mean 0.9463 Di_fake_mean 0.0158 Dv_real_mean 0.8915 Dv_fake_mean 0.0000\n",
            "[7100/120000] (0d 1h 19m 22s) Loss_Di: 0.3819 Loss_Dv: 0.3259 Loss_Gi: 8.2263 Loss_Gv: 15.0483 Di_real_mean 0.8109 Di_fake_mean 0.0001 Dv_real_mean 0.8968 Dv_fake_mean 0.0000\n",
            "[7200/120000] (0d 1h 20m 29s) Loss_Di: 0.4277 Loss_Dv: 0.3267 Loss_Gi: 6.8951 Loss_Gv: 14.6673 Di_real_mean 0.8167 Di_fake_mean 0.0004 Dv_real_mean 0.9158 Dv_fake_mean 0.0000\n",
            "[7300/120000] (0d 1h 21m 36s) Loss_Di: 0.3467 Loss_Dv: 0.3265 Loss_Gi: 4.6263 Loss_Gv: 15.0367 Di_real_mean 0.8869 Di_fake_mean 0.0098 Dv_real_mean 0.9136 Dv_fake_mean 0.0000\n",
            "[7400/120000] (0d 1h 22m 43s) Loss_Di: 0.3591 Loss_Dv: 0.3254 Loss_Gi: 4.6107 Loss_Gv: 13.8616 Di_real_mean 0.8908 Di_fake_mean 0.0124 Dv_real_mean 0.8970 Dv_fake_mean 0.0000\n",
            "[7500/120000] (0d 1h 23m 50s) Loss_Di: 0.4138 Loss_Dv: 0.4087 Loss_Gi: 3.5429 Loss_Gv: 8.8914 Di_real_mean 0.7641 Di_fake_mean 0.0075 Dv_real_mean 0.7519 Dv_fake_mean 0.0000\n",
            "[7600/120000] (0d 1h 24m 58s) Loss_Di: 0.3700 Loss_Dv: 0.3424 Loss_Gi: 5.0540 Loss_Gv: 12.6686 Di_real_mean 0.9239 Di_fake_mean 0.0249 Dv_real_mean 0.8632 Dv_fake_mean 0.0000\n",
            "[7700/120000] (0d 1h 26m 5s) Loss_Di: 0.4100 Loss_Dv: 0.3342 Loss_Gi: 3.7256 Loss_Gv: 11.2498 Di_real_mean 0.7631 Di_fake_mean 0.0056 Dv_real_mean 0.9324 Dv_fake_mean 0.0000\n",
            "[7800/120000] (0d 1h 27m 12s) Loss_Di: 0.3963 Loss_Dv: 0.3364 Loss_Gi: 5.8332 Loss_Gv: 10.8870 Di_real_mean 0.9663 Di_fake_mean 0.0054 Dv_real_mean 0.8545 Dv_fake_mean 0.0000\n",
            "[7900/120000] (0d 1h 28m 19s) Loss_Di: 0.4152 Loss_Dv: 0.3331 Loss_Gi: 2.4095 Loss_Gv: 12.9308 Di_real_mean 0.7612 Di_fake_mean 0.0076 Dv_real_mean 0.9112 Dv_fake_mean 0.0000\n",
            "[8000/120000] (0d 1h 29m 26s) Loss_Di: 0.3297 Loss_Dv: 0.3384 Loss_Gi: 6.2037 Loss_Gv: 5.1411 Di_real_mean 0.9003 Di_fake_mean 0.0017 Dv_real_mean 0.9114 Dv_fake_mean 0.0074\n",
            "[8100/120000] (0d 1h 30m 34s) Loss_Di: 0.3311 Loss_Dv: 0.3399 Loss_Gi: 6.3916 Loss_Gv: 5.8972 Di_real_mean 0.9223 Di_fake_mean 0.0018 Dv_real_mean 0.8477 Dv_fake_mean 0.0009\n",
            "[8200/120000] (0d 1h 31m 41s) Loss_Di: 0.3310 Loss_Dv: 0.3262 Loss_Gi: 7.0276 Loss_Gv: 7.4259 Di_real_mean 0.8832 Di_fake_mean 0.0005 Dv_real_mean 0.9067 Dv_fake_mean 0.0003\n",
            "[8300/120000] (0d 1h 32m 48s) Loss_Di: 0.3298 Loss_Dv: 0.3277 Loss_Gi: 6.2999 Loss_Gv: 11.4415 Di_real_mean 0.9030 Di_fake_mean 0.0010 Dv_real_mean 0.8853 Dv_fake_mean 0.0000\n",
            "[8400/120000] (0d 1h 33m 55s) Loss_Di: 0.3374 Loss_Dv: 0.3260 Loss_Gi: 6.3842 Loss_Gv: 11.9626 Di_real_mean 0.9371 Di_fake_mean 0.0012 Dv_real_mean 0.8913 Dv_fake_mean 0.0000\n"
          ],
          "name": "stdout"
        }
      ]
    }
  ]
}