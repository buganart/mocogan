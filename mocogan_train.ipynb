{
  "nbformat": 4,
  "nbformat_minor": 0,
  "metadata": {
    "colab": {
      "name": "mocogan_train.ipynb",
      "provenance": [],
      "collapsed_sections": [],
      "machine_shape": "hm",
      "include_colab_link": true
    },
    "kernelspec": {
      "name": "python3",
      "display_name": "Python 3"
    },
    "accelerator": "GPU"
  },
  "cells": [
    {
      "cell_type": "markdown",
      "metadata": {
        "id": "view-in-github",
        "colab_type": "text"
      },
      "source": [
        "<a href=\"https://colab.research.google.com/github/buganart/mocogan/blob/master/mocogan_train.ipynb\" target=\"_parent\"><img src=\"https://colab.research.google.com/assets/colab-badge.svg\" alt=\"Open In Colab\"/></a>"
      ]
    },
    {
      "cell_type": "code",
      "metadata": {
        "id": "jbp-CL5ijb4e",
        "cellView": "form"
      },
      "source": [
        "#@markdown Before starting please save the notebook in your drive by clicking on `File -> Save a copy in drive`"
      ],
      "execution_count": null,
      "outputs": []
    },
    {
      "cell_type": "code",
      "metadata": {
        "id": "XQ-pH7tyK9xW",
        "cellView": "form"
      },
      "source": [
        "#@markdown Check GPU, should be a Tesla V100\n",
        "!nvidia-smi -L\n",
        "import os\n",
        "print(f\"We have {os.cpu_count()} CPU cores.\")"
      ],
      "execution_count": null,
      "outputs": []
    },
    {
      "cell_type": "code",
      "metadata": {
        "id": "BJyxzcLOhgWY",
        "cellView": "form"
      },
      "source": [
        "#@markdown Mount google drive\n",
        "from google.colab import drive\n",
        "from google.colab import output\n",
        "drive.mount('/content/drive')\n",
        "\n",
        "from pathlib import Path\n",
        "if not Path(\"/content/drive/My Drive/IRCMS_GAN_collaborative_database\").exists():\n",
        "    raise RuntimeError(\n",
        "        \"Shortcut to our shared drive folder doesn't exits.\\n\\n\"\n",
        "        \"\\t1. Go to the google drive web UI\\n\"\n",
        "        \"\\t2. Right click shared folder IRCMS_GAN_collaborative_database and click \\\"Add shortcut to Drive\\\"\"\n",
        "    )\n",
        "\n",
        "def clear_on_success(msg=\"Ok!\"):\n",
        "    if _exit_code == 0:\n",
        "        output.clear()\n",
        "        print(msg)"
      ],
      "execution_count": null,
      "outputs": []
    },
    {
      "cell_type": "code",
      "metadata": {
        "id": "9-L3BlfGTfbJ",
        "cellView": "form"
      },
      "source": [
        "#@markdown Install wandb and log in\n",
        "%pip install wandb\n",
        "output.clear()\n",
        "import wandb\n",
        "from pathlib import Path\n",
        "wandb_drive_netrc_path = Path(\"drive/My Drive/colab/.netrc\")\n",
        "wandb_local_netrc_path = Path(\"/root/.netrc\")\n",
        "if wandb_drive_netrc_path.exists():\n",
        "    import shutil\n",
        "\n",
        "    print(\"Wandb .netrc file found, will use that to log in.\")\n",
        "    shutil.copy(wandb_drive_netrc_path, wandb_local_netrc_path)\n",
        "else:\n",
        "    print(\n",
        "        f\"Wandb config not found at {wandb_drive_netrc_path}.\\n\"\n",
        "        f\"Using manual login.\\n\\n\"\n",
        "        f\"To use auto login in the future, finish the manual login first and then run:\\n\\n\"\n",
        "        f\"\\t!mkdir -p '{wandb_drive_netrc_path.parent}'\\n\"\n",
        "        f\"\\t!cp {wandb_local_netrc_path} '{wandb_drive_netrc_path}'\\n\\n\"\n",
        "        f\"Then that file will be used to login next time.\\n\"\n",
        "    )\n",
        "\n",
        "!wandb login\n",
        "output.clear()\n",
        "print(\"ok!\")"
      ],
      "execution_count": null,
      "outputs": []
    },
    {
      "cell_type": "markdown",
      "metadata": {
        "id": "ebxxv9zGTic1"
      },
      "source": [
        "# Description\n"
      ]
    },
    {
      "cell_type": "code",
      "metadata": {
        "id": "BVjGm8m_q9R6"
      },
      "source": [
        "#@title Configuration\n",
        "\n",
        "#@markdown Directories can be found via file explorer on the left by navigating into `drive` to the desired folders. \n",
        "#@markdown Then right-click and `Copy path`.\n",
        "#@markdown - The video database directory\n",
        "video_db_dir = \"/content/drive/My Drive/VIDEOS/SINGLE_FILE\" #@param {type:\"string\"}\n",
        "# experiment_dir = \"/content/drive/My Drive/IRCMS_GAN_collaborative_database/Experiments/colab-violingan/melgan\" #@param {type:\"string\"}\n",
        "#@markdown - The output directory of generated videos \n",
        "out_dir = \"/content/drive/My Drive/IRCMS_GAN_collaborative_database/Experiments/colab-mocogan\" #@param {type:\"string\"}\n",
        "#@markdown - set wandb run id of logged run to resume from there\n",
        "resume_id = \"\" #@param {type:\"string\"}\n",
        "#@markdown - set batch_size, default: 16\n",
        "batch_size = 16 #@param {type:\"integer\"}\n",
        "#@markdown - set num of iterations, default: 120000\n",
        "n_iter = 120000 #@param {type:\"integer\"}\n",
        "#@markdown - learning rate of the model (all components)\n",
        "lr = 0.0002 #@param {type:\"number\"}\n",
        "#@markdown - the height and width of input (resized) video\n",
        "img_size = 96 #@param {type:\"integer\"}\n",
        "#@markdown - the number of video input channels (resized)\n",
        "nc = 3 #@param {type:\"integer\"}\n",
        "\n",
        "#@markdown ##model parameters\n",
        "ndf = 64 #@param {type:\"integer\"}\n",
        "ngf = 64 #@param {type:\"integer\"}\n",
        "d_E = 10 #@param {type:\"integer\"}\n",
        "hidden_size = 100 #@param {type:\"integer\"}\n",
        "d_C = 50 #@param {type:\"integer\"}\n",
        "d_M = 10 #@param {type:\"integer\"}\n",
        "\n",
        "#@markdown ##log parameters\n",
        "#@markdown - the number of epoch to save 1 generated video (default:1000)\n",
        "video_epoch = 1000 #@param {type:\"integer\"}\n",
        "#@markdown - the number of epoch to save model checkpoint (default:10000)\n",
        "checkpoint_epoch = 5000 #@param {type:\"integer\"}"
      ],
      "execution_count": null,
      "outputs": []
    },
    {
      "cell_type": "code",
      "metadata": {
        "id": "pBbbEqNZxngL",
        "cellView": "form"
      },
      "source": [
        "#@title Clone mocogan repo\n",
        "\n",
        "!git clone https://github.com/buganart/mocogan"
      ],
      "execution_count": null,
      "outputs": []
    },
    {
      "cell_type": "code",
      "metadata": {
        "id": "p1AnyVoom4td",
        "cellView": "form"
      },
      "source": [
        "#@title Install Dependencies\n",
        "\n",
        "%cd /content/mocogan\n",
        "# %pip install -r requirements.txt\n",
        "%pip install sk-video\n",
        "%pip install wandb\n",
        "clear_on_success(\"Dependencies installed.\")"
      ],
      "execution_count": null,
      "outputs": []
    },
    {
      "cell_type": "code",
      "metadata": {
        "id": "yhpa_QpwocrO",
        "cellView": "form"
      },
      "source": [
        "#@title Copy video files to runtime\n",
        "\n",
        "local_wav_dir = Path(\"/content/mocogan/raw_data\")\n",
        "!find \"{video_db_dir}\" -maxdepth 1 -type f | xargs -t -d \"\\n\" -I'%%' -P 10 -n 1 rsync -a '%%' \"$local_wav_dir\"/\n",
        "clear_on_success(\"All files copied to this runtime.\")\n"
      ],
      "execution_count": null,
      "outputs": []
    },
    {
      "cell_type": "code",
      "metadata": {
        "id": "VWfMO9-GiNyb",
        "cellView": "form"
      },
      "source": [
        "#@title RESIZE\n",
        "\n",
        "import glob\n",
        "import os\n",
        "current_path = \"/content/mocogan/\"\n",
        "resized_path = os.path.join(current_path, 'resized_data')\n",
        "files = glob.glob(os.path.join(current_path, 'raw_data/*.*'))\n",
        "\n",
        "#remove all files in resized_path first\n",
        "for x, file_path in enumerate(glob.glob(os.path.join(resized_path, '*.*'))):\n",
        "    try:\n",
        "        os.remove(file_path)\n",
        "    except OSError as e:\n",
        "        print(\"Error: %s : %s\" % (file_path, e.strerror))\n",
        "\n",
        "for i, file in enumerate(files):\n",
        "    resized_filename = os.path.join(resized_path, str(i))\n",
        "    !ffmpeg -i \"{file}\" -pix_fmt yuv420p -vf scale=\"{img_size}\":\"{img_size}\" \"{resized_filename}\".mp4\n",
        "\n",
        "# crop=96:96:42:24\n",
        "clear_on_success(\"All files resized.\")"
      ],
      "execution_count": null,
      "outputs": []
    },
    {
      "cell_type": "code",
      "metadata": {
        "id": "UsD5T5GpolG0",
        "cellView": "form"
      },
      "source": [
        "#@title TRAIN\n",
        "# os.environ[\"WANDB_MODE\"] = \"dryrun\"\n",
        "\n",
        "!python train.py \\\n",
        "--out_dir \"$out_dir\" \\\n",
        "--resume_id \"$resume_id\" \\\n",
        "--batch_size \"$batch_size\" \\\n",
        "--niter \"$n_iter\" \\\n",
        "--lr \"$lr\" \\\n",
        "--img_size \"$img_size\" \\\n",
        "--nc \"$nc\" \\\n",
        "--ndf \"$ndf\" \\\n",
        "--ngf \"$ngf\" \\\n",
        "--d_E \"$d_E\" \\\n",
        "--hidden_size \"$hidden_size\" \\\n",
        "--d_C \"$d_C\" \\\n",
        "--d_M \"$d_M\" \\\n",
        "--video_epoch \"$video_epoch\" \\\n",
        "--checkpoint_epoch \"$checkpoint_epoch\""
      ],
      "execution_count": null,
      "outputs": []
    }
  ]
}